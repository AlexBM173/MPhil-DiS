{
 "cells": [
  {
   "cell_type": "markdown",
   "id": "dca9f872",
   "metadata": {},
   "source": [
    "# C1 Research Computing Coursework\n",
    "\n",
    "## Coursework outline\n",
    "\n",
    "Full stack application.\n",
    "\n",
    "Backend will be a Python module. Small, fully-connected neural network to predict y values given 5 input features. Load, train, and predict.\n",
    "\n",
    "Frontend built with next.js. Allowing uploading of test and training data, training a neural network and/or testing (an existing?) the network.\n",
    "\n",
    "Want a Linux image so that anyone with Docker can run the program without crashing."
   ]
  },
  {
   "cell_type": "code",
   "execution_count": 2,
   "id": "bd552e3e",
   "metadata": {},
   "outputs": [
    {
     "name": "stderr",
     "output_type": "stream",
     "text": [
      "2025-10-30 12:45:25.808781: I tensorflow/core/util/port.cc:153] oneDNN custom operations are on. You may see slightly different numerical results due to floating-point round-off errors from different computation orders. To turn them off, set the environment variable `TF_ENABLE_ONEDNN_OPTS=0`.\n",
      "2025-10-30 12:45:26.464211: I tensorflow/core/platform/cpu_feature_guard.cc:210] This TensorFlow binary is optimized to use available CPU instructions in performance-critical operations.\n",
      "To enable the following instructions: AVX2 AVX_VNNI FMA, in other operations, rebuild TensorFlow with the appropriate compiler flags.\n"
     ]
    }
   ],
   "source": [
    "import numpy as np\n",
    "import scipy as sp\n",
    "import pandas as pd\n",
    "import matplotlib.pyplot as plt\n",
    "import seaborn as sns\n",
    "import sklearn\n",
    "import tensorflow as tf\n",
    "import torch"
   ]
  }
 ],
 "metadata": {
  "kernelspec": {
   "display_name": "alex",
   "language": "python",
   "name": "python3"
  },
  "language_info": {
   "codemirror_mode": {
    "name": "ipython",
    "version": 3
   },
   "file_extension": ".py",
   "mimetype": "text/x-python",
   "name": "python",
   "nbconvert_exporter": "python",
   "pygments_lexer": "ipython3",
   "version": "3.12.3"
  }
 },
 "nbformat": 4,
 "nbformat_minor": 5
}
