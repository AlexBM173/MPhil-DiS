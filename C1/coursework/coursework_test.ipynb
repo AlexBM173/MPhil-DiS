{
 "cells": [
  {
   "cell_type": "markdown",
   "id": "dca9f872",
   "metadata": {},
   "source": [
    "# C1 Research Computing Coursework\n",
    "\n",
    "## Coursework outline\n",
    "\n",
    "Full stack application.\n",
    "\n",
    "Backend will be a Python module. Small, fully-connected neural network to predict y values given 5 input features. Load, train, and predict.\n",
    "\n",
    "Frontend built with next.js. Allowing uploading of test and training data, training a neural network and/or testing (an existing?) the network.\n",
    "\n",
    "Want a Linux image so that anyone with Docker can run the program without crashing."
   ]
  }
 ],
 "metadata": {
  "language_info": {
   "name": "python"
  }
 },
 "nbformat": 4,
 "nbformat_minor": 5
}
